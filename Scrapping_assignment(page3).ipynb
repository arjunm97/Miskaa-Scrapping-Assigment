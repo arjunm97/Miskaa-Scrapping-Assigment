{
  "nbformat": 4,
  "nbformat_minor": 0,
  "metadata": {
    "colab": {
      "name": "Scrapping_assignment(page3).ipynb",
      "provenance": []
    },
    "kernelspec": {
      "name": "python3",
      "display_name": "Python 3"
    }
  },
  "cells": [
    {
      "cell_type": "code",
      "metadata": {
        "id": "bmwraPpvNVru"
      },
      "source": [
        "import requests\n",
        "import pandas as pd\n",
        "from bs4 import BeautifulSoup\n",
        "import urllib\n",
        "from bs4 import BeautifulSoup as BS"
      ],
      "execution_count": 39,
      "outputs": []
    },
    {
      "cell_type": "code",
      "metadata": {
        "id": "UIUN4FMZOKz-",
        "outputId": "73b22aa9-58a5-4e96-a701-5072b4671ce8",
        "colab": {
          "base_uri": "https://localhost:8080/",
          "height": 66
        }
      },
      "source": [
        "URL_flip=\"https://www.instructables.com/How-to-Make-a-Self-Watering-Plant-Stand/\"\n",
        "r_flip = requests.get(URL_flip) \n",
        "\n",
        "c_flip=r_flip.content\n",
        "soup_f=BeautifulSoup(c_flip,\"html.parser\")\n",
        "\n",
        "#print(soup_f)\n",
        "\n",
        "header=soup_f.find(\"h1\",{\"class\":\"header-title\"}).text##Gettting the header_title\n",
        "view=soup_f.find(\"p\",{\"class\":\"svg-views view-count\"}).text##Getting view count\n",
        "fav=soup_f.find(\"p\",{\"class\":\"svg-favorite active favorite-count\"}).text##getting fav count\n",
        "\n",
        "\n",
        "print(header)\n",
        "print(view)\n",
        "print(fav)\n",
        "\n",
        "##############Getting steps############\n",
        "\n",
        "##Step 1 \n",
        "\n",
        "steps1=soup_f.find_all(\"section\",{\"id\":\"step1\"})## Getting the steps \n",
        "\n",
        "##Step 2\n",
        "\n",
        "steps2=soup_f.find_all(\"section\",{\"id\":\"step2\"})## Getting the steps \n",
        "\n",
        "##Step 3 \n",
        "\n",
        "steps3=soup_f.find_all(\"section\",{\"id\":\"step3\"})## Getting the steps \n",
        "\n",
        "###Step 4 \n",
        "\n",
        "steps4=soup_f.find_all(\"section\",{\"id\":\"step4\"})## Getting the steps \n",
        "\n",
        "###Step 5\n",
        "\n",
        "steps5=soup_f.find_all(\"section\",{\"id\":\"step5\"})## Getting the steps \n",
        "\n",
        "###Step 6\n",
        "\n",
        "steps6=soup_f.find_all(\"section\",{\"id\":\"step6\"})## Getting the steps \n",
        "\n",
        "###Step 7\n",
        "\n",
        "steps7=soup_f.find_all(\"section\",{\"id\":\"step7\"})## Getting the steps \n",
        "\n",
        "###Step 8 \n",
        "\n",
        "steps8=soup_f.find_all(\"section\",{\"id\":\"step8\"})## Getting the steps \n",
        "\n",
        "###Step 9\n",
        "\n",
        "steps9=soup_f.find_all(\"section\",{\"id\":\"step9\"})## Getting the steps \n",
        "\n",
        "###Gettting Youtube URL\n",
        "###Getting all the links and then getting the youtube link\n",
        "linklist=[]\n",
        "for link in soup_f.find_all('a'):\n",
        "    linklist.append(link.get('href'))\n",
        "\n",
        "youtube_url=linklist[21]\n",
        "\n",
        "\n",
        "####Supplies \n",
        "suppli=soup_f.find(\"div\",{\"class\":\"step-body\"})\n",
        "\n",
        "\n"
      ],
      "execution_count": 40,
      "outputs": [
        {
          "output_type": "stream",
          "text": [
            "How to Make a Self-Watering Plant Stand\n",
            "136\n",
            "1\n"
          ],
          "name": "stdout"
        }
      ]
    },
    {
      "cell_type": "code",
      "metadata": {
        "id": "BHF2JeSuOg-A",
        "outputId": "2d682d5b-2ee0-4c19-8a66-eaa3f9a637f2",
        "colab": {
          "base_uri": "https://localhost:8080/",
          "height": 167
        }
      },
      "source": [
        "final_list=[]\n",
        "## Final List order [url,header,view_count, favourite_count,Youtube_url,steps,supplies]\n",
        "\n",
        "final_list.append(URL_flip)\n",
        "print(\"URL =\",URL_flip)\n",
        "print(\"Header =\",header)\n",
        "final_list.append(header)\n",
        "print(\"View Count=\",view)\n",
        "final_list.append(view)\n",
        "print(f\"fav _count=\",fav)\n",
        "final_list.append(fav)\n",
        "print(\"Comment count =\",comment)\n",
        "final_list.append(comment)\n",
        "print(\"Youtube link=\",youtube_url)\n",
        "final_list.append(youtube_url)\n",
        "\n",
        "\n",
        "##Extracting Steps\n",
        "d=[] \n",
        "\n",
        "for item in steps1:\n",
        "   \n",
        "   d.append(\"Step 1\")\n",
        "   d.append(item.find(\"div\",{\"class\",\"step-body\"}).text)\n",
        "\n",
        "for item in steps2:\n",
        "    d.append(\"Step 2\")\n",
        "    d.append(item.find(\"div\",{\"class\",\"step-body\"}).text)\n",
        "\n",
        "for item in steps3:\n",
        "    d.append(\"Step 3\")\n",
        "    d.append(item.find(\"div\",{\"class\",\"step-body\"}).text)   \n",
        "\n",
        "for item in steps4:\n",
        "    d.append(\"Step 4\")\n",
        "    d.append(item.find(\"div\",{\"class\",\"step-body\"}).text)\n",
        "\n",
        "for item in steps5:\n",
        "    d.append(\"Step 5\")\n",
        "    d.append(item.find(\"div\",{\"class\",\"step-body\"}).text)\n",
        "\n",
        "for item in steps6:\n",
        "    d.append(\"Step 6\")\n",
        "    d.append(item.find(\"div\",{\"class\",\"step-body\"}).text)\n",
        "\n",
        "for item in steps7:\n",
        "    d.append(\"Step 7\")\n",
        "    d.append(item.find(\"div\",{\"class\",\"step-body\"}).text)\n",
        "\n",
        "\n",
        "for item in steps8:\n",
        "    d.append(\"Step 8\")\n",
        "    d.append(item.find(\"div\",{\"class\",\"step-body\"}).text)\n",
        "\n",
        "for item in steps9:\n",
        "    d.append(\"Step 9\")\n",
        "    d.append(item.find(\"div\",{\"class\",\"step-body\"}).text)\n",
        "\n",
        "\n",
        "print(\"Steps =\",d)\n",
        "\n",
        "final_list.append(d)\n",
        " \n",
        "###Extracting supplies \n",
        "spu=suppli.find_all(\"p\")\n",
        "\n",
        "sup=[]\n",
        "i=0\n",
        "for item in spu:\n",
        "  \n",
        "  sup.append(item)\n",
        "sup.pop(0)\n",
        "print(\"Supplies =\",sup)\n",
        "final_list.append(sup)\n",
        "\n",
        "\n",
        "###\n",
        "\n"
      ],
      "execution_count": 43,
      "outputs": [
        {
          "output_type": "stream",
          "text": [
            "URL = https://www.instructables.com/How-to-Make-a-Self-Watering-Plant-Stand/\n",
            "Header = How to Make a Self-Watering Plant Stand\n",
            "View Count= 136\n",
            "fav _count= 1\n",
            "Comment count = 6\n",
            "Youtube link= https://www.youtube.com/channel/UCfQkonEYiZ9sybFYP9FxySQ\n",
            "Steps = ['Step 1', 'I started with the plant stand top which will consist of two circle pieces of Sapele glued together with the reservoir cut out in the middleI wanted to create a very shallow shelf for the planter to sit down in, so I used the pot to trace its diameter I then used my router and circle cutting jig to cut the outline of the shelf The circle jig is very easy to do – you simply attach the pivot screw in the center of the circle, align the router bit on the traced circle line, and cut out the outlineNext, I moved on to cutting out the larger of the two circlesThe size doesn’t really matter, so I set the circle jig to cut just within the width of the boardTo cut all the way through, I had to do multiple passes lowering the router a ¼ inch each passI then cut all the way through the center using the same process to create the top portion of the reservoir Next, I cut the smaller bottom circle the same way, but only cut the center void about halfway This will become the bottom portion of the reservoir that will hold the waterTo give the plant stand top a little shape, I added a round over to the top and bottom of both circles And then I gave everything a sand up to 320 grit', 'Step 2', 'Next, I moved back to my shop to glue the two circles together, making sure to align the center holesTo prevent the wood from absorbing the water, I started by applying a layer of Total Boat’s penetrating epoxyOnce that was dry, I added another layer of Total Boat’s Makerpoxy which is a little thickerThis may have been overkill, but I’m always in the camp of better safe than sorryWhile that dried, I moved on to making the concrete base', 'Step 3', 'To connect the stands leg to the concrete base, I incorporated a flange on the top of the baseUsing a forstner bit, I cut a hole in the bottom of a bowl so the flange would sit flush to the surface of the baseThen to temporary close the flange opening, I used a combination of nuts and washers To give the concrete something to grab onto, I superglued some screws into the flangeNext, I used some hot glue to hold the flange in place and make the seam watertight for the concrete pourI also used some silicone on the inside seam', 'Step 4', 'Next, I mixed up some Quikrete 5000 to the consistency of oatmeal and poured it into the bowlTo get rid of as many bubbles or blemishes in the concrete, it’s important to poke and vibrate the bowl as you go After about a day or so, the concrete had cured and was ready to take out of the moldI wanted to make the base darker, so I wiped on some India InkThe India ink gives the concrete almost a metallic look sometimes which can be a cool effectWith the base done, I switched back to the top which was ready for finish', 'Step 5', 'To finish the top, I went with Maker Brand’s Simple Finish w/ Wax which is, as the name would suggest, a super simple finish to apply and leaves a really nice natural finish You simply wipe it on, wait 15 minutes or so and then wipe off the excess', 'Step 6', 'Next, I moved on to attaching another flange to the bottom of the topBecause of the reservoir, I had to use some very shallow screws which I spray painted black to match the ones I used on the baseOk, now for the self-watering or self-regulating partThe idea is that you insert synthetic strings into the soil of the plant through the hole in the bottom of the pot leaving a couple inches hanging out the bottom which will sit down in the reservoir filled with waterThe plant then pulls the water up into the soil as it needs it – thereby eliminating any guessing as to when and how much you need to water the plantI know it sounds a little crazy, but it totally works. All you need to do is remember to make sure the reservoir has water in it every couple of days With the top done, we’re ready for the final assembly', 'Step 7', 'I grabbed a ½ inch coupling and a couple of pipes to connect the top to the base, and then simply screwed everything together and it was done…or was it…', 'Step 8', 'I wasn’t happy with how it looked when I did the final assembly, so I decided to wrap the pipes in leather and make the base a little wider and not dye it.To add the leather accents to the pipes I started by cutting the leather down to length which ended up being 8 and a half inches Then I just eyeballed how wide the piece would need to be to completely wrap the pipeNext, I used my wing divider and some leather pricking irons to add stitching holes to each side of the seam And then I used the corset stitch to close the seam and wrap the pipeIf you want more details on how to do this stitch and others, I made a video dedicated to leather stitching where I go in depth into the process and I will leave a link here for you to check it out ', 'Step 9', 'I used essentially the same process to make the new wider base, only this time I had a small leak which made the flange a little rustyBut since the rust was really just on the surface, I simply used some Acetone and an old toothbrush to remove it and it worked greatFinally, to protect the floor from getting scratched, I cut a scrap piece of leather to size and glued it to the bottom of the base with some Tandy Leather EcoWeldAfter that, all that was left was to swap out the new base for the old one and we’re done!Thanks so much for following along with this project! I’d love to know what you think. Leave a comment below and don’t forget to watch the video on my channel!See you on the next project!']\n",
            "Supplies = [<p>Supplies &amp; Materials (Affiliate Links):</p>, <p>·       Circle Cutting Jig - https://amzn.to/30DQOaV </p>, <p>·       Router - https://amzn.to/3jwr0om</p>, <p>·       Palm Sander - https://amzn.to/3d2cFxw</p>, <p>·       Total Boat Penetrating Epoxy - https://amzn.to/3d1YSHa </p>, <p>·       Total Boat Makerpoxy - https://amzn.to/30CjHnR </p>, <p>·       Simple Finish - https://amzn.to/2GEOucn</p>, <p>·       Concrete - https://amzn.to/34ZByIq</p>, <p>·       Pipes - https://www.supplyhouse.com/sh/control/product/~product_id=BLN050-1000</p>, <p>·       Coupling - https://www.supplyhouse.com/sh/control/product/~product_id=FBCO1/2</p>, <p>·       12x12 Piece of Leather - https://amzn.to/2uPYGZJ </p>, <p>·       Leather Working Starter Tool Kit - https://amzn.to/2uGPGG7</p>, <p>·       Leather Rotary Cutter - https://amzn.to/2uTr1yd </p>, <p>·       Inexpensive Mallet - https://amzn.to/3ada6Xv </p>, <p>·       Leather Marking Pen - https://amzn.to/30pEEAV</p>]\n"
          ],
          "name": "stdout"
        }
      ]
    },
    {
      "cell_type": "code",
      "metadata": {
        "id": "mO1ADc2wZUNB"
      },
      "source": [
        "###Converting list to json \n",
        "import json \n",
        "\n",
        "final_json=json.dumps(final_list)"
      ],
      "execution_count": null,
      "outputs": []
    }
  ]
}