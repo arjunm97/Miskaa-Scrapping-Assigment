{
  "nbformat": 4,
  "nbformat_minor": 0,
  "metadata": {
    "colab": {
      "name": "Scrapping_assignment(page2)",
      "provenance": []
    },
    "kernelspec": {
      "name": "python3",
      "display_name": "Python 3"
    }
  },
  "cells": [
    {
      "cell_type": "code",
      "metadata": {
        "id": "s8QEs6RPIRV_"
      },
      "source": [
        "import requests\n",
        "import pandas as pd\n",
        "from bs4 import BeautifulSoup\n",
        "import urllib\n",
        "from bs4 import BeautifulSoup as BS"
      ],
      "execution_count": 64,
      "outputs": []
    },
    {
      "cell_type": "code",
      "metadata": {
        "id": "FEMW3YZfIfjb"
      },
      "source": [
        "URL_flip=\"https://www.instructables.com/Hydraulic-Craft-Stick-Box/\"\n",
        "r_flip = requests.get(URL_flip) \n",
        "\n",
        "c_flip=r_flip.content\n",
        "soup_f=BeautifulSoup(c_flip,\"html.parser\")\n",
        "soup_k=BeautifulSoup(c_flip,\"lxml\")\n",
        "#print(soup_f)\n",
        "\n",
        "header=soup_f.find(\"h1\",{\"class\":\"header-title\"}).text##Gettting the header_title\n",
        "view=soup_f.find(\"p\",{\"class\":\"svg-views view-count\"}).text##Getting view count\n",
        "fav=soup_f.find(\"p\",{\"class\":\"svg-favorite active favorite-count\"}).text##getting fav count\n",
        "comment=soup_f.find(\"p\",{\"class\":\"svg-comments active comment-count\"}).text##Getting comment count\n",
        "\n",
        "##############Getting steps############\n",
        "\n",
        "##Step 1 \n",
        "\n",
        "steps1=soup_f.find_all(\"section\",{\"id\":\"step1\"})## Getting the steps \n",
        "\n",
        "##Step 2\n",
        "\n",
        "steps2=soup_f.find_all(\"section\",{\"id\":\"step2\"})## Getting the steps \n",
        "\n",
        "##Step 3 \n",
        "\n",
        "steps3=soup_f.find_all(\"section\",{\"id\":\"step3\"})## Getting the steps \n",
        "\n",
        "###Step 4 \n",
        "\n",
        "steps4=soup_f.find_all(\"section\",{\"id\":\"step4\"})## Getting the steps \n",
        "\n",
        "###Step 5\n",
        "\n",
        "steps5=soup_f.find_all(\"section\",{\"id\":\"step5\"})## Getting the steps \n",
        "\n",
        "###Step 6\n",
        "\n",
        "steps6=soup_f.find_all(\"section\",{\"id\":\"step6\"})## Getting the steps \n",
        "\n",
        "###Step 7\n",
        "\n",
        "steps7=soup_f.find_all(\"section\",{\"id\":\"step7\"})## Getting the steps \n",
        "\n",
        "###Supplies \n",
        "\n",
        "suppli=soup_f.find(\"div\",{\"class\":\"step-body\"})\n",
        "\n",
        "\n",
        "\n",
        "###Gettting Youtube URL\n",
        "###Getting all the links and then getting the youtube link\n",
        "\n",
        "linklist=[]\n",
        "link=soup_k.find_all('div',class_='videoset-item')\n",
        "\n",
        "   \n",
        "\n",
        "###Getting imgs \n",
        "suppli=soup_f.find(\"div\",{\"class\":\"step-body\"})\n"
      ],
      "execution_count": 65,
      "outputs": []
    },
    {
      "cell_type": "code",
      "metadata": {
        "id": "P3LklSMvJ7G4",
        "outputId": "7af1632a-1e33-4bd3-c771-6e7198666cae",
        "colab": {
          "base_uri": "https://localhost:8080/",
          "height": 167
        }
      },
      "source": [
        "final_list=[]\n",
        "## Final List order [url,header,view_count, favourite_count, comment_count,Youtube_url,steps,supplies]\n",
        "\n",
        "final_list.append(URL_flip)\n",
        "print(\"URL =\",URL_flip)\n",
        "print(\"Header =\",header)\n",
        "final_list.append(header)\n",
        "print(\"View Count=\",view)\n",
        "final_list.append(view)\n",
        "print(f\"fav _count=\",fav)\n",
        "final_list.append(fav)\n",
        "print(\"Comment count =\",comment)\n",
        "final_list.append(comment)\n",
        "print(\"Youtube link=\",youtube_url)\n",
        "final_list.append(youtube_url)\n",
        "\n",
        "\n",
        "##Extracting Steps\n",
        "d=[] \n",
        "\n",
        "for item in steps1:\n",
        "   \n",
        "   d.append(\"Step 1\")\n",
        "   d.append(item.find(\"div\",{\"class\",\"step-body\"}).text)\n",
        "\n",
        "for item in steps2:\n",
        "    d.append(\"Step 2\")\n",
        "    d.append(item.find(\"div\",{\"class\",\"step-body\"}).text)\n",
        "\n",
        "for item in steps3:\n",
        "    d.append(\"Step 3\")\n",
        "    d.append(item.find(\"div\",{\"class\",\"step-body\"}).text)   \n",
        "\n",
        "for item in steps4:\n",
        "    d.append(\"Step 4\")\n",
        "    d.append(item.find(\"div\",{\"class\",\"step-body\"}).text)\n",
        "\n",
        "for item in steps5:\n",
        "    d.append(\"Step 5\")\n",
        "    d.append(item.find(\"div\",{\"class\",\"step-body\"}).text)\n",
        "\n",
        "for item in steps6:\n",
        "    d.append(\"Step 6\")\n",
        "    d.append(item.find(\"div\",{\"class\",\"step-body\"}).text)\n",
        "\n",
        "for item in steps7:\n",
        "    d.append(\"Step 7\")\n",
        "    d.append(item.find(\"div\",{\"class\",\"step-body\"}).text)\n",
        "\n",
        "print(\"Steps =\",d)\n",
        "\n",
        "final_list.append(d)\n",
        "\n",
        "###Supplies \n",
        "spu=suppli.find_all(\"li\")\n",
        "i=0\n",
        "spu1=[]\n",
        "for item in spu:\n",
        "  if i==8:\n",
        "    break\n",
        "  spu1.append(spu[i].text)\n",
        "  i=i+1\n",
        "  \n",
        "\n",
        "\n",
        "print(\"Supplies =\",spu1)\n",
        "\n",
        "final_list.append(spu1)\n",
        "\n",
        "\n",
        "###"
      ],
      "execution_count": 66,
      "outputs": [
        {
          "output_type": "stream",
          "text": [
            "URL = https://www.instructables.com/Hydraulic-Craft-Stick-Box/\n",
            "Header = Hydraulic Craft Stick Box\n",
            "View Count= 3,222\n",
            "fav _count= 26\n",
            "Comment count = 6\n",
            "Youtube link= https://www.stem-inventions.com/\n",
            "Steps = ['Step 1', 'The easiest way to create the 6 sides of the box is to first line up a row of 12 craft sticks on a flat surface, then hot glue two more sticks to the ends. This is much faster than gluing the sticks together one-by-one!', 'Step 2', \"Use craft cubes and hot glue to assemble four of the side pieces as shown. Only create 3 side pieces for now. If you assemble all 4 then it'll be more difficult to make the hinge and install the hydraulic system.\", 'Step 3', 'To make the hinge, first cut or break a 1/8\" dowel to fit the width of the box. Next, thread four cubes with holes onto the dowel piece, then glue the outermost cubes to the inside corners of the box as shown. Prepare an attachment point for the lid by gluing two regular cubes onto the innermost hinge cubes as shown.To make the lid, cut away two craft sticks from one of the remaining side pieces. Glue the lid onto the hinge attachment cubes.', 'Step 4', 'Fill one syringe with water, then attach the tubing.Next push water through the tubing to remove the air, then refill the syringe with 10ml of water. The syringe and tubing should have little to no air in it.Attach the other empty syringe to the tubing, then snap on the syringe adapter.', 'Step 5', 'Hot glue a cube with holes to the bottom center of the box near the edge.Then strap the nozzle of the syringe to the cube with a cable tie. Make sure to tie it tightly, but avoid constricting the flow of water through the tubing.', 'Step 6', \"Glue a craft stick onto the lid about 3-stick-widths from the front of the lid, then cable tie the syringe adapter to that stick.Test it out! If the box doesn't close all the way, then you'll need to attach the syringe closer to the front of the lid.\", 'Step 7', 'Glue on the remaining side piece, careful not to pinch the tubing. Optional: Glue on additional sticks to cover up the gaps at the corners and near the hinge. The box is done!']\n",
            "Supplies = ['Hot glue gunGlue sticksCraft sticks 1/8\" dowelsSyringe and tubing kit1/2\" craft cubesCubes with holes4\" cable ties', 'Glue sticksCraft sticks 1/8\" dowelsSyringe and tubing kit1/2\" craft cubesCubes with holes4\" cable ties', 'Craft sticks 1/8\" dowelsSyringe and tubing kit1/2\" craft cubesCubes with holes4\" cable ties', '1/8\" dowelsSyringe and tubing kit1/2\" craft cubesCubes with holes4\" cable ties', 'Syringe and tubing kit1/2\" craft cubesCubes with holes4\" cable ties', '1/2\" craft cubesCubes with holes4\" cable ties', 'Cubes with holes4\" cable ties', '4\" cable ties']\n"
          ],
          "name": "stdout"
        }
      ]
    },
    {
      "cell_type": "code",
      "metadata": {
        "id": "p-GgybQ9eYFg"
      },
      "source": [
        "###Converting list to json \n",
        "import json \n",
        "\n",
        "final_json=json.dumps(final_list)"
      ],
      "execution_count": null,
      "outputs": []
    }
  ]
}