{
  "nbformat": 4,
  "nbformat_minor": 0,
  "metadata": {
    "colab": {
      "name": "Scrapping_assignment(page1).ipynb",
      "provenance": []
    },
    "kernelspec": {
      "name": "python3",
      "display_name": "Python 3"
    }
  },
  "cells": [
    {
      "cell_type": "code",
      "metadata": {
        "id": "mp3FTOwrtN5Z"
      },
      "source": [
        "import requests\n",
        "import pandas as pd\n",
        "from bs4 import BeautifulSoup\n",
        "import urllib\n",
        "from bs4 import BeautifulSoup as BS"
      ],
      "execution_count": 140,
      "outputs": []
    },
    {
      "cell_type": "code",
      "metadata": {
        "id": "kd2CHNHgtjRs",
        "outputId": "fb63c738-5912-4c09-a4f1-e648ee8c3c2f",
        "colab": {
          "base_uri": "https://localhost:8080/",
          "height": 70
        }
      },
      "source": [
        "URL_flip=\"https://www.instructables.com/Building-a-Self-Driving-Boat-ArduPilot-Rover/\"\n",
        "r_flip = requests.get(URL_flip) \n",
        "\n",
        "c_flip=r_flip.content\n",
        "soup_f=BeautifulSoup(c_flip,\"html.parser\")\n",
        "\n",
        "#print(soup_f)\n",
        "\n",
        "header=soup_f.find(\"h1\",{\"class\":\"header-title\"}).text##Gettting the header_title\n",
        "view=soup_f.find(\"p\",{\"class\":\"svg-views view-count\"}).text##Getting view count\n",
        "fav=soup_f.find(\"p\",{\"class\":\"svg-favorite active favorite-count\"}).text##getting fav count\n",
        "comment=soup_f.find(\"p\",{\"class\":\"svg-comments active comment-count\"}).text##Getting comment count\n",
        "\n",
        "\n",
        "##############Getting steps############\n",
        "\n",
        "##Step 1 \n",
        "\n",
        "steps1=soup_f.find_all(\"section\",{\"id\":\"step1\"})## Getting the steps \n",
        "\n",
        "##Step 2\n",
        "\n",
        "steps2=soup_f.find_all(\"section\",{\"id\":\"step2\"})## Getting the steps \n",
        "\n",
        "##Step 3 \n",
        "\n",
        "steps3=soup_f.find_all(\"section\",{\"id\":\"step3\"})## Getting the steps \n",
        "\n",
        "###Step 4 \n",
        "\n",
        "steps4=soup_f.find_all(\"section\",{\"id\":\"step4\"})## Getting the steps \n",
        "\n",
        "###Step 5\n",
        "\n",
        "steps5=soup_f.find_all(\"section\",{\"id\":\"step5\"})## Getting the steps \n",
        "\n",
        "###Step 6\n",
        "\n",
        "steps6=soup_f.find_all(\"section\",{\"id\":\"step6\"})## Getting the steps \n",
        "\n",
        "###Step 7\n",
        "\n",
        "steps7=soup_f.find_all(\"section\",{\"id\":\"step7\"})## Getting the steps \n",
        "\n",
        "###Step 8 \n",
        "\n",
        "steps8=soup_f.find_all(\"section\",{\"id\":\"step8\"})## Getting the steps \n",
        "\n",
        "###Step 9\n",
        "\n",
        "steps9=soup_f.find_all(\"section\",{\"id\":\"step9\"})## Getting the steps \n",
        "\n",
        "###Step 10\n",
        "\n",
        "steps10=soup_f.find_all(\"section\",{\"id\":\"step10\"})## Getting the steps \n",
        "\n",
        "\n",
        "print(steps1)\n",
        "\n",
        "\n",
        "\n",
        "###Gettting Youtube URL\n",
        "###Getting all the links and then getting the youtube link\n",
        "linklist=[]\n",
        "for link in soup_f.find_all('a'):\n",
        "    linklist.append(link.get('href'))\n",
        "\n",
        "youtube_url=linklist[26]\n",
        "\n",
        "##Getting image URL\n",
        "imglist=[]\n",
        "\n",
        "pics=soup_f.find_all(\"img\")\n",
        "print(pics)\n",
        "\n"
      ],
      "execution_count": 141,
      "outputs": [
        {
          "output_type": "stream",
          "text": [
            "[<section class=\"step\" data-stepid=\"SH7WK13KEBE3VP1\" id=\"step1\"><h2 class=\"step-title\">Step 1: Muscles: the Hull</h2><div class=\"mediaset\"></div><noscript><div class=\"no-js-photoset\"><img alt=\"Muscles: the Hull\" src=\"{{ file.large_url|add:'auto=webp&amp;frame=1&amp;height=300' %}\"/><img alt=\"Muscles: the Hull\" src=\"{{ file.large_url|add:'auto=webp&amp;frame=1&amp;height=300' %}\"/><img alt=\"Muscles: the Hull\" src=\"{{ file.large_url|add:'auto=webp&amp;frame=1&amp;height=300' %}\"/><img alt=\"Muscles: the Hull\" src=\"{{ file.large_url|add:'auto=webp&amp;frame=1&amp;height=300' %}\"/><img alt=\"Muscles: the Hull\" src=\"{{ file.large_url|add:'auto=webp&amp;frame=1&amp;height=300' %}\"/><img alt=\"Muscles: the Hull\" src=\"{{ file.large_url|add:'auto=webp&amp;frame=1&amp;height=300' %}\"/></div></noscript><div class=\"step-body\"><p>The hull is the biggest part of the boat. Not only because of it's huge dimensions (100cm*80cm) but also because it took a lot of time to build this custom structure. If I would do it again, I would definitely go for of the shelf parts. An off the shelf RC boat was unfortinately not in the cards for us, as those boats have a very limited payload capacity. Something like a bodyboard or a surfboard or just a couple of PVC Pipes from the hardware store would have been a much simpler solution that I can only recommend. </p><p>Anyways, our hull started with a 3D model in Fusion 360. I made a very detailed model and went through multiple iterations before we actually started building it. I made sure to give each component in the model the appropriate weights and even modeled the interior. This allowed me to know the approximate weight of the boat before building it. I also did a few buoyancy calibrations by inserting a \"water line\", cutting the vehicle with it and calculating the volume that was underwater. The boat is a catamaran as this kind of vehicle promises a higher stability, then a boat with a single hull.</p><p>After a ton of modeling hours we started to bring the boat to life by cutting the basic shape of the two hulls out of polystyrene plates. They were then cut to shape, holes were filled and we performed a lot of sanding. The bridge that connects the two hulls is just a big wooden box. </p><p>We covered everything with 3 layers of fibre glass. This step took about 3 weeks and involved days of manual sanding to get a decently smooth surface ( 0/10 would not recommend). After that we painted it in a nice yellow and added the name \"Kenterprise\". The name is a combination of the German word \"kentern\" which translates to sinking and the Star Trek Spaceship \"USS Enterprise\". We all thought that this name is absolutely suitable for the monstrosity that we created.</p></div><div class=\"step-toolbar\" data-location=\"stepBody\"><button class=\"step-tip\">Add Tip</button><button class=\"step-question\">Ask Question</button><button class=\"step-comment\">Comment</button><button class=\"svg-pdf step-download download-pdf login-required\" data-sourcea=\"course\">Download</button></div></section>]\n",
            "[<img alt=\"Instructables\" class=\"instructables-logo\" src=\"/assets/img/instructables-logo-v2.png\"/>, <img alt=\"license\" src=\"/assets/img/license/by-nc-sa_small.png\"/>, <img alt=\"Building a Self-Driving Boat (ArduPilot Rover)\" src=\"{{ file.large_url|add:'auto=webp&amp;frame=1&amp;height=300' %}\"/>, <img alt=\"Building a Self-Driving Boat (ArduPilot Rover)\" src=\"{{ file.large_url|add:'auto=webp&amp;frame=1&amp;height=300' %}\"/>, <img alt=\"Building a Self-Driving Boat (ArduPilot Rover)\" src=\"{{ file.large_url|add:'auto=webp&amp;frame=1&amp;height=300' %}\"/>, <img alt=\"Basement Engineering\" class=\"lazyload\" data-src=\"https://cdn.instructables.com/ORIG/FUL/IN9E/J6IF2J2G/FULIN9EJ6IF2J2G.jpg?crop=1%3A1&amp;frame=1&amp;width=130\" src=\"/assets/img/pixel.png\"/>, <img alt=\"Basement Engineering\" src=\"https://cdn.instructables.com/ORIG/FUL/IN9E/J6IF2J2G/FULIN9EJ6IF2J2G.jpg?crop=1%3A1&amp;frame=1&amp;width=130\"/>, <img alt=\"The Perfect Bedside Lamp and Phone Dock\" class=\"lazyload\" data-src=\"https://content.instructables.com/ORIG/FXR/B41J/KANXOEPW/FXRB41JKANXOEPW.png?crop=1%3A1&amp;frame=1&amp;width=130\" src=\"/assets/img/pixel.png\"/>, <img alt=\"The Perfect Bedside Lamp and Phone Dock\" src=\"https://content.instructables.com/ORIG/FXR/B41J/KANXOEPW/FXRB41JKANXOEPW.png?crop=1%3A1&amp;frame=1&amp;width=130\"/>, <img alt=\"Simple LED Strip Lamps (Upgrade Your LED Strips)\" class=\"lazyload\" data-src=\"https://content.instructables.com/ORIG/FD6/MRJA/K8OOBZCD/FD6MRJAK8OOBZCD.jpg?crop=1%3A1&amp;frame=1&amp;width=130\" src=\"/assets/img/pixel.png\"/>, <img alt=\"Simple LED Strip Lamps (Upgrade Your LED Strips)\" src=\"https://content.instructables.com/ORIG/FD6/MRJA/K8OOBZCD/FD6MRJAK8OOBZCD.jpg?crop=1%3A1&amp;frame=1&amp;width=130\"/>, <img alt=\"Arduino Based Binary Alarm Clock\" class=\"lazyload\" data-src=\"https://content.instructables.com/ORIG/F3P/YGPG/JC6JYHZJ/F3PYGPGJC6JYHZJ.jpg?crop=1%3A1&amp;frame=1&amp;width=130\" src=\"/assets/img/pixel.png\"/>, <img alt=\"Arduino Based Binary Alarm Clock\" src=\"https://content.instructables.com/ORIG/F3P/YGPG/JC6JYHZJ/F3PYGPGJC6JYHZJ.jpg?crop=1%3A1&amp;frame=1&amp;width=130\"/>, <img alt=\"download {{ file.name }}\" class=\"lazyload tiny-img\" data-src=\"https://cdn.instructables.com/static/image/file.default.gif\" src=\"/assets/img/pixel.png\"/>, <img alt=\"download {{ file.name }}\" class=\"tiny-img\" src=\"https://cdn.instructables.com/static/image/file.default.gif\"/>, <img alt=\"Muscles: the Hull\" src=\"{{ file.large_url|add:'auto=webp&amp;frame=1&amp;height=300' %}\"/>, <img alt=\"Muscles: the Hull\" src=\"{{ file.large_url|add:'auto=webp&amp;frame=1&amp;height=300' %}\"/>, <img alt=\"Muscles: the Hull\" src=\"{{ file.large_url|add:'auto=webp&amp;frame=1&amp;height=300' %}\"/>, <img alt=\"Muscles: the Hull\" src=\"{{ file.large_url|add:'auto=webp&amp;frame=1&amp;height=300' %}\"/>, <img alt=\"Muscles: the Hull\" src=\"{{ file.large_url|add:'auto=webp&amp;frame=1&amp;height=300' %}\"/>, <img alt=\"Muscles: the Hull\" src=\"{{ file.large_url|add:'auto=webp&amp;frame=1&amp;height=300' %}\"/>, <img alt=\"Muscles: Propulsion System\" src=\"{{ file.large_url|add:'auto=webp&amp;frame=1&amp;height=300' %}\"/>, <img alt=\"Muscles: Propulsion System\" src=\"{{ file.large_url|add:'auto=webp&amp;frame=1&amp;height=300' %}\"/>, <img alt=\"Muscles: Propulsion System\" src=\"{{ file.large_url|add:'auto=webp&amp;frame=1&amp;height=300' %}\"/>, <img alt=\"download {{ file.name }}\" class=\"lazyload small-img\" data-src=\"https://content.instructables.com/ORIG/FCE/R299/KFWJNQKN/FCER299KFWJNQKN.png?frame=1\" src=\"/assets/img/pixel.png\"/>, <img alt=\"download {{ file.name }}\" class=\"small-img\" src=\"https://content.instructables.com/ORIG/FCE/R299/KFWJNQKN/FCER299KFWJNQKN.png?frame=1\"/>, <img alt=\"download {{ file.name }}\" class=\"lazyload small-img\" data-src=\"https://content.instructables.com/ORIG/FAF/FXYS/KFWJNEFO/FAFFXYSKFWJNEFO.png?frame=1\" src=\"/assets/img/pixel.png\"/>, <img alt=\"download {{ file.name }}\" class=\"small-img\" src=\"https://content.instructables.com/ORIG/FAF/FXYS/KFWJNEFO/FAFFXYSKFWJNEFO.png?frame=1\"/>, <img alt=\"download {{ file.name }}\" class=\"lazyload small-img\" data-src=\"https://content.instructables.com/ORIG/FXO/A7W1/KFWJNI65/FXOA7W1KFWJNI65.png?frame=1\" src=\"/assets/img/pixel.png\"/>, <img alt=\"download {{ file.name }}\" class=\"small-img\" src=\"https://content.instructables.com/ORIG/FXO/A7W1/KFWJNI65/FXOA7W1KFWJNI65.png?frame=1\"/>, <img alt=\"Muscles: Steering\" src=\"{{ file.large_url|add:'auto=webp&amp;frame=1&amp;height=300' %}\"/>, <img alt=\"Muscles: Steering\" src=\"{{ file.large_url|add:'auto=webp&amp;frame=1&amp;height=300' %}\"/>, <img alt=\"download {{ file.name }}\" class=\"lazyload tiny-img\" data-src=\"https://cdn.instructables.com/static/image/file.default.gif\" src=\"/assets/img/pixel.png\"/>, <img alt=\"download {{ file.name }}\" class=\"tiny-img\" src=\"https://cdn.instructables.com/static/image/file.default.gif\"/>, <img alt=\"download {{ file.name }}\" class=\"lazyload small-img\" data-src=\"https://content.instructables.com/ORIG/FX0/XEP2/KFWJO0P2/FX0XEP2KFWJO0P2.png?frame=1\" src=\"/assets/img/pixel.png\"/>, <img alt=\"download {{ file.name }}\" class=\"small-img\" src=\"https://content.instructables.com/ORIG/FX0/XEP2/KFWJO0P2/FX0XEP2KFWJO0P2.png?frame=1\"/>, <img alt=\"download {{ file.name }}\" class=\"lazyload small-img\" data-src=\"https://content.instructables.com/ORIG/FEW/1SJC/KFWJO1HS/FEW1SJCKFWJO1HS.png?frame=1\" src=\"/assets/img/pixel.png\"/>, <img alt=\"download {{ file.name }}\" class=\"small-img\" src=\"https://content.instructables.com/ORIG/FEW/1SJC/KFWJO1HS/FEW1SJCKFWJO1HS.png?frame=1\"/>, <img alt=\"download {{ file.name }}\" class=\"lazyload small-img\" data-src=\"https://content.instructables.com/ORIG/FCW/A2HY/KFWJO0PE/FCWA2HYKFWJO0PE.png?frame=1\" src=\"/assets/img/pixel.png\"/>, <img alt=\"download {{ file.name }}\" class=\"small-img\" src=\"https://content.instructables.com/ORIG/FCW/A2HY/KFWJO0PE/FCWA2HYKFWJO0PE.png?frame=1\"/>, <img alt=\"Muscles: Battery\" src=\"{{ file.large_url|add:'auto=webp&amp;frame=1&amp;height=300' %}\"/>, <img alt=\"Muscles: Battery\" src=\"{{ file.large_url|add:'auto=webp&amp;frame=1&amp;height=300' %}\"/>, <img alt=\"Muscles: Battery\" src=\"{{ file.large_url|add:'auto=webp&amp;frame=1&amp;height=300' %}\"/>, <img alt=\"Muscles: Battery\" src=\"{{ file.large_url|add:'auto=webp&amp;frame=1&amp;height=300' %}\"/>, <img alt=\"Muscles: Battery\" src=\"{{ file.large_url|add:'auto=webp&amp;frame=1&amp;height=300' %}\"/>, <img alt=\"Muscles: Wiring\" src=\"{{ file.large_url|add:'auto=webp&amp;frame=1&amp;height=300' %}\"/>, <img alt=\"Brain: Components\" src=\"{{ file.large_url|add:'auto=webp&amp;frame=1&amp;height=300' %}\"/>, <img alt=\"Brain: Components\" src=\"{{ file.large_url|add:'auto=webp&amp;frame=1&amp;height=300' %}\"/>, <img alt=\"Brain: Wiring\" src=\"{{ file.large_url|add:'auto=webp&amp;frame=1&amp;height=300' %}\"/>, <img alt=\"Brain: Wiring\" src=\"{{ file.large_url|add:'auto=webp&amp;frame=1&amp;height=300' %}\"/>, <img alt=\"Brain: Wiring\" src=\"{{ file.large_url|add:'auto=webp&amp;frame=1&amp;height=300' %}\"/>, <img alt=\"Brain: Wiring\" src=\"{{ file.large_url|add:'auto=webp&amp;frame=1&amp;height=300' %}\"/>, <img alt=\"download {{ file.name }}\" class=\"lazyload small-img\" data-src=\"https://content.instructables.com/ORIG/FKN/SB23/KFS9C3LS/FKNSB23KFS9C3LS.png?frame=1\" src=\"/assets/img/pixel.png\"/>, <img alt=\"download {{ file.name }}\" class=\"small-img\" src=\"https://content.instructables.com/ORIG/FKN/SB23/KFS9C3LS/FKNSB23KFS9C3LS.png?frame=1\"/>, <img alt=\"download {{ file.name }}\" class=\"lazyload small-img\" data-src=\"https://content.instructables.com/ORIG/FS4/OB2G/KFS9C3FG/FS4OB2GKFS9C3FG.png?frame=1\" src=\"/assets/img/pixel.png\"/>, <img alt=\"download {{ file.name }}\" class=\"small-img\" src=\"https://content.instructables.com/ORIG/FS4/OB2G/KFS9C3FG/FS4OB2GKFS9C3FG.png?frame=1\"/>, <img alt=\"download {{ file.name }}\" class=\"lazyload small-img\" data-src=\"https://content.instructables.com/ORIG/FM2/31XQ/KFS9DYFV/FM231XQKFS9DYFV.png?frame=1\" src=\"/assets/img/pixel.png\"/>, <img alt=\"download {{ file.name }}\" class=\"small-img\" src=\"https://content.instructables.com/ORIG/FM2/31XQ/KFS9DYFV/FM231XQKFS9DYFV.png?frame=1\"/>, <img alt=\"Brain: ArduPilot Setup\" src=\"{{ file.large_url|add:'auto=webp&amp;frame=1&amp;height=300' %}\"/>, <img alt=\"Brain: ArduPilot Setup\" src=\"{{ file.large_url|add:'auto=webp&amp;frame=1&amp;height=300' %}\"/>, <img alt=\"Brain: ArduPilot Setup\" src=\"{{ file.large_url|add:'auto=webp&amp;frame=1&amp;height=300' %}\"/>, <img alt=\"Brain: Custom LED Controller\" src=\"{{ file.large_url|add:'auto=webp&amp;frame=1&amp;height=300' %}\"/>, <img alt=\"Brain: Custom LED Controller\" src=\"{{ file.large_url|add:'auto=webp&amp;frame=1&amp;height=300' %}\"/>, <img alt=\"Brain: Custom LED Controller\" src=\"{{ file.large_url|add:'auto=webp&amp;frame=1&amp;height=300' %}\"/>, <img alt=\"download {{ file.name }}\" class=\"lazyload tiny-img\" data-src=\"https://cdn.instructables.com/static/image/file.default.gif\" src=\"/assets/img/pixel.png\"/>, <img alt=\"download {{ file.name }}\" class=\"tiny-img\" src=\"https://cdn.instructables.com/static/image/file.default.gif\"/>, <img alt=\"Doing a Couple of Missions\" src=\"{{ file.large_url|add:'auto=webp&amp;frame=1&amp;height=300' %}\"/>, <img alt=\"Doing a Couple of Missions\" src=\"{{ file.large_url|add:'auto=webp&amp;frame=1&amp;height=300' %}\"/>, <img alt=\"Doing a Couple of Missions\" src=\"{{ file.large_url|add:'auto=webp&amp;frame=1&amp;height=300' %}\"/>, <img alt=\"download {{ file.name }}\" class=\"lazyload tiny-img\" data-src=\"https://cdn.instructables.com/static/image/file.default.gif\" src=\"/assets/img/pixel.png\"/>, <img alt=\"download {{ file.name }}\" class=\"tiny-img\" src=\"https://cdn.instructables.com/static/image/file.default.gif\"/>, <img alt=\"Make it Move Contest 2020\" class=\"lazyload\" data-src=\"https://content.instructables.com/ORIG/F2Y/DLLB/KDU8V25Y/F2YDLLBKDU8V25Y.jpg?crop=1240%2C600&amp;frame=1&amp;width=320\" src=\"/assets/img/pixel.png\"/>, <img alt=\"Make it Move Contest 2020\" src=\"https://content.instructables.com/ORIG/F2Y/DLLB/KDU8V25Y/F2YDLLBKDU8V25Y.jpg?crop=1240%2C600&amp;frame=1&amp;width=320\"/>, <img alt=\"Neopixel RGB LED Sword Prop\" class=\"lazyload\" data-src=\"https://content.instructables.com/ORIG/FJD/3OUB/KG9EMN6C/FJD3OUBKG9EMN6C.jpg?crop=1.2%3A1&amp;frame=1&amp;width=306\" src=\"/assets/img/pixel.png\"/>, <img alt=\"Neopixel RGB LED Sword Prop\" src=\"https://content.instructables.com/ORIG/FJD/3OUB/KG9EMN6C/FJD3OUBKG9EMN6C.jpg?crop=1.2%3A1&amp;frame=1&amp;width=306\"/>, <img alt=\"LED Cylon Scooter - 80s Larson Scanner\" class=\"lazyload\" data-src=\"https://content.instructables.com/ORIG/FM6/YUJZ/KG1844F7/FM6YUJZKG1844F7.jpg?crop=1.2%3A1&amp;frame=1&amp;width=306\" src=\"/assets/img/pixel.png\"/>, <img alt=\"LED Cylon Scooter - 80s Larson Scanner\" src=\"https://content.instructables.com/ORIG/FM6/YUJZ/KG1844F7/FM6YUJZKG1844F7.jpg?crop=1.2%3A1&amp;frame=1&amp;width=306\"/>, <img alt=\"Inchworm Robot - Modular, Move Allsides With BT App\" class=\"lazyload\" data-src=\"https://content.instructables.com/ORIG/FPX/6TJH/KG182RBY/FPX6TJHKG182RBY.jpg?crop=1.2%3A1&amp;frame=1&amp;width=306\" src=\"/assets/img/pixel.png\"/>, <img alt=\"Inchworm Robot - Modular, Move Allsides With BT App\" src=\"https://content.instructables.com/ORIG/FPX/6TJH/KG182RBY/FPX6TJHKG182RBY.jpg?crop=1.2%3A1&amp;frame=1&amp;width=306\"/>, <img alt=\"Half Square Triangles Kinetic Art \" class=\"lazyload\" data-src=\"https://content.instructables.com/ORIG/F3E/4HVB/KFZEJMQN/F3E4HVBKFZEJMQN.jpg?crop=1.2%3A1&amp;frame=1&amp;width=306\" src=\"/assets/img/pixel.png\"/>, <img alt=\"Half Square Triangles Kinetic Art \" src=\"https://content.instructables.com/ORIG/F3E/4HVB/KFZEJMQN/F3E4HVBKFZEJMQN.jpg?crop=1.2%3A1&amp;frame=1&amp;width=306\"/>, <img alt=\"Hand Tools Only Challenge\" class=\"lazyload\" data-src=\"https://content.instructables.com/ORIG/FFI/EW9E/KG0TZ1U8/FFIEW9EKG0TZ1U8.jpg?crop=1240%2C600&amp;fit=bounds&amp;frame=1&amp;height=620&amp;width=620\" src=\"/assets/img/pixel.png\"/>, <img alt=\"Hand Tools Only Challenge\" src=\"https://content.instructables.com/ORIG/FFI/EW9E/KG0TZ1U8/FFIEW9EKG0TZ1U8.jpg?crop=1240%2C600&amp;fit=bounds&amp;frame=1&amp;height=620&amp;width=620\"/>, <img alt=\"Modify It Speed Challenge\" class=\"lazyload\" data-src=\"https://content.instructables.com/ORIG/FIH/IU7B/KG0TZ24T/FIHIU7BKG0TZ24T.jpg?crop=1240%2C600&amp;fit=bounds&amp;frame=1&amp;height=620&amp;width=620\" src=\"/assets/img/pixel.png\"/>, <img alt=\"Modify It Speed Challenge\" src=\"https://content.instructables.com/ORIG/FIH/IU7B/KG0TZ24T/FIHIU7BKG0TZ24T.jpg?crop=1240%2C600&amp;fit=bounds&amp;frame=1&amp;height=620&amp;width=620\"/>, <img alt=\"Remix Contest\" class=\"lazyload\" data-src=\"https://content.instructables.com/ORIG/F2G/PVLF/KEWTPTIX/F2GPVLFKEWTPTIX.jpg?crop=1240%2C600&amp;fit=bounds&amp;frame=1&amp;height=620&amp;width=620\" src=\"/assets/img/pixel.png\"/>, <img alt=\"Remix Contest\" src=\"https://content.instructables.com/ORIG/F2G/PVLF/KEWTPTIX/F2GPVLFKEWTPTIX.jpg?crop=1240%2C600&amp;fit=bounds&amp;frame=1&amp;height=620&amp;width=620\"/>, <img alt=\"Perfect DIY\" class=\"lazyload\" data-src=\"https://content.instructables.com/ORIG/F9W/3NHF/JUSNFTY5/F9W3NHFJUSNFTY5.png?crop=1%3A1&amp;frame=1&amp;width=48\" src=\"/assets/img/pixel.png\"/>, <img alt=\"Perfect DIY\" src=\"https://content.instructables.com/ORIG/F9W/3NHF/JUSNFTY5/F9W3NHFJUSNFTY5.png?crop=1%3A1&amp;frame=1&amp;width=48\"/>, <img alt=\"Basement Engineering\" class=\"lazyload\" data-src=\"https://cdn.instructables.com/ORIG/FUL/IN9E/J6IF2J2G/FULIN9EJ6IF2J2G.jpg?crop=1%3A1&amp;frame=1&amp;width=48\" src=\"/assets/img/pixel.png\"/>, <img alt=\"Basement Engineering\" src=\"https://cdn.instructables.com/ORIG/FUL/IN9E/J6IF2J2G/FULIN9EJ6IF2J2G.jpg?crop=1%3A1&amp;frame=1&amp;width=48\"/>, <img alt=\"The other Finnish guy\" class=\"lazyload\" data-src=\"https://content.instructables.com/ORIG/FAI/J050/IVO4OYKK/FAIJ050IVO4OYKK.jpg?crop=1%3A1&amp;frame=1&amp;width=48\" src=\"/assets/img/pixel.png\"/>, <img alt=\"The other Finnish guy\" src=\"https://content.instructables.com/ORIG/FAI/J050/IVO4OYKK/FAIJ050IVO4OYKK.jpg?crop=1%3A1&amp;frame=1&amp;width=48\"/>, <img alt=\"Basement Engineering\" class=\"lazyload\" data-src=\"https://cdn.instructables.com/ORIG/FUL/IN9E/J6IF2J2G/FULIN9EJ6IF2J2G.jpg?crop=1%3A1&amp;frame=1&amp;width=48\" src=\"/assets/img/pixel.png\"/>, <img alt=\"Basement Engineering\" src=\"https://cdn.instructables.com/ORIG/FUL/IN9E/J6IF2J2G/FULIN9EJ6IF2J2G.jpg?crop=1%3A1&amp;frame=1&amp;width=48\"/>, <img alt=\"seamster\" class=\"lazyload\" data-src=\"https://cdn.instructables.com/ORIG/FWE/5PBN/K16PCP7Q/FWE5PBNK16PCP7Q.jpg?crop=1%3A1&amp;frame=1&amp;width=48\" src=\"/assets/img/pixel.png\"/>, <img alt=\"seamster\" src=\"https://cdn.instructables.com/ORIG/FWE/5PBN/K16PCP7Q/FWE5PBNK16PCP7Q.jpg?crop=1%3A1&amp;frame=1&amp;width=48\"/>, <img alt=\"Basement Engineering\" class=\"lazyload\" data-src=\"https://cdn.instructables.com/ORIG/FUL/IN9E/J6IF2J2G/FULIN9EJ6IF2J2G.jpg?crop=1%3A1&amp;frame=1&amp;width=48\" src=\"/assets/img/pixel.png\"/>, <img alt=\"Basement Engineering\" src=\"https://cdn.instructables.com/ORIG/FUL/IN9E/J6IF2J2G/FULIN9EJ6IF2J2G.jpg?crop=1%3A1&amp;frame=1&amp;width=48\"/>, <img alt=\"Autodesk\" src=\"/assets/img/footer/autodesk-logo-make-anything.png\"/>]\n"
          ],
          "name": "stdout"
        }
      ]
    },
    {
      "cell_type": "code",
      "metadata": {
        "id": "E4v2Zgzi1ypU",
        "outputId": "5f7b6f4b-b185-4c2e-9766-2c4668c1a5c7",
        "colab": {
          "base_uri": "https://localhost:8080/",
          "height": 151
        }
      },
      "source": [
        "final_list=[]\n",
        "## Final List order [url,header,view_count, favourite_count, comment_count,Youtube_url,steps]\n",
        "\n",
        "final_list.append(URL_flip)\n",
        "print(\"URL =\",URL_flip)\n",
        "print(\"Header =\",header)\n",
        "final_list.append(header)\n",
        "print(\"View Count=\",view)\n",
        "final_list.append(view)\n",
        "print(f\"fav _count=\",fav)\n",
        "final_list.append(fav)\n",
        "print(\"Comment count =\",comment)\n",
        "final_list.append(comment)\n",
        "print(\"Youtube link=\",youtube_url)\n",
        "final_list.append(youtube_url)\n",
        "\n",
        "##Extracting Steps\n",
        "d=[] \n",
        "\n",
        "for item in steps1:\n",
        "   \n",
        "   d.append(\"Step 1\")\n",
        "   d.append(item.find(\"div\",{\"class\",\"step-body\"}).text)\n",
        "\n",
        "for item in steps2:\n",
        "    d.append(\"Step 2\")\n",
        "    d.append(item.find(\"div\",{\"class\",\"step-body\"}).text)\n",
        "\n",
        "for item in steps3:\n",
        "    d.append(\"Step 3\")\n",
        "    d.append(item.find(\"div\",{\"class\",\"step-body\"}).text)   \n",
        "\n",
        "for item in steps4:\n",
        "    d.append(\"Step 4\")\n",
        "    d.append(item.find(\"div\",{\"class\",\"step-body\"}).text)\n",
        "\n",
        "for item in steps5:\n",
        "    d.append(\"Step 5\")\n",
        "    d.append(item.find(\"div\",{\"class\",\"step-body\"}).text)\n",
        "\n",
        "for item in steps6:\n",
        "    d.append(\"Step 6\")\n",
        "    d.append(item.find(\"div\",{\"class\",\"step-body\"}).text)\n",
        "\n",
        "for item in steps7:\n",
        "    d.append(\"Step 7\")\n",
        "    d.append(item.find(\"div\",{\"class\",\"step-body\"}).text)\n",
        "\n",
        "\n",
        "for item in steps8:\n",
        "    d.append(\"Step 8\")\n",
        "    d.append(item.find(\"div\",{\"class\",\"step-body\"}).text)\n",
        "\n",
        "for item in steps9:\n",
        "    d.append(\"Step 9\")\n",
        "    d.append(item.find(\"div\",{\"class\",\"step-body\"}).text)\n",
        "\n",
        "for item in steps10:\n",
        "    d.append(\"Step 10\")\n",
        "    d.append(item.find(\"div\",{\"class\",\"step-body\"}).text)\n",
        "\n",
        "print(\"Steps involved =\",d)\n",
        "\n",
        "final_list.append(d)\n",
        "\n",
        "\n"
      ],
      "execution_count": 150,
      "outputs": [
        {
          "output_type": "stream",
          "text": [
            "URL = https://www.instructables.com/Building-a-Self-Driving-Boat-ArduPilot-Rover/\n",
            "Header = Building a Self-Driving Boat (ArduPilot Rover)\n",
            "View Count= 2,620\n",
            "fav _count= 23\n",
            "Comment count = 6\n",
            "Youtube link= https://www.youtube.com/watch?v=fH5AfD628rk\n",
            "Steps involved = ['Step 1', 'The hull is the biggest part of the boat. Not only because of it\\'s huge dimensions (100cm*80cm) but also because it took a lot of time to build this custom structure. If I would do it again, I would definitely go for of the shelf parts. An off the shelf RC boat was unfortinately not in the cards for us, as those boats have a very limited payload capacity. Something like a bodyboard or a surfboard or just a couple of PVC Pipes from the hardware store would have been a much simpler solution that I can only recommend. Anyways, our hull started with a 3D model in Fusion 360. I made a very detailed model and went through multiple iterations before we actually started building it. I made sure to give each component in the model the appropriate weights and even modeled the interior. This allowed me to know the approximate weight of the boat before building it. I also did a few buoyancy calibrations by inserting a \"water line\", cutting the vehicle with it and calculating the volume that was underwater. The boat is a catamaran as this kind of vehicle promises a higher stability, then a boat with a single hull.After a ton of modeling hours we started to bring the boat to life by cutting the basic shape of the two hulls out of polystyrene plates. They were then cut to shape, holes were filled and we performed a lot of sanding. The bridge that connects the two hulls is just a big wooden box. We covered everything with 3 layers of fibre glass. This step took about 3 weeks and involved days of manual sanding to get a decently smooth surface ( 0/10 would not recommend). After that we painted it in a nice yellow and added the name \"Kenterprise\". The name is a combination of the German word \"kentern\" which translates to sinking and the Star Trek Spaceship \"USS Enterprise\". We all thought that this name is absolutely suitable for the monstrosity that we created.', 'Step 2', \"A boat without motors or sails has the driving characteristics of a piece of driftwood. Therefore we needed to add a propulsion system to the empty hull.I'd like to give you another spoiler: The motors we choose are way too powerful. I'm going to describe the current solution and it's shortcomings and also propose an alternative propulsion system.The current solutionWe did not really know how much thrust the boat needed so we got ourselves two of these racing boat motors. Each of those is meant to power a 1m long RC racing boat and the corresponding electronic speed controller (ESC) can deliver 90A continuously (this consumption would drain a big car battery in an hour).They also require water cooling. Usually you would simply connect the ESC and the Motor with some tubing, put the inlet to the front of the boat and place the outlet in front of the propeller. This way the propeller pulls the lake water through the  cooling system. However, the lake in question is not always clean and this solution may clog the cooling system and cause a motor failure while out on the lake. That's why we decided to go for an internal cooling loop that pumps the water through a heat exchanger on top of the hull (image 3). For now the boat has two water bottles as reservoirs and no heat exchanger. The reservoirs simply increases the thermal mass so the motors take much longer to heat up.The motor shaft is connected to the prop through two universal joints, an axel and a so called stern tube, that is meant to keep the water out. You can see a side view of this assembly in the second image. The motor is mounted at an angle with a 3D printed mount and the props are also printed (because i broke the old ones). I was pretty surprised to learn that these props can withstand the forces of the motors. To support their strength I made the blades 2mm thick and printed them with 100% infill. Designing and printing the props is actually a pretty cool opertunity to try out different kinds of props and find the most efficient one. I attached the 3D models of my props.A possible AlternativeTesting showed that the boat only needs 10-20% of the throttle range to slowly move around (at 1m/s). Going straight to 100% throttle causes an enormous current spike, that completely disables the whole boat. Also the requirement of a cooling system is pretty annoying. A better solution could be so called thrusters. A thruster has the the motor directly connected to the propeller. The whole assembly is then submerged and therefore cooled. Here is a Link to a small thruster with the corresponding ESC. This can provide a max current of 30 A, which seems like a more appropriate size. It will probably create way smaller current spikes and the throttle does not have to be limited so much.\", 'Step 3', \"Propulsion is cool, but a boat also needs to turn. There are multiple ways to achieve that. The two most common solutions are Rudders and differential thrust.Rudders seemed like an obvious solution so we went for it. I modeled a rudder assembly in Fusion and 3D printed the rudders, hinges and a servo mount. For the servos we choose two big 25kg Servos to make sure that the relatively big rudders were able to withstand the drag of the water. Then the servo was positioned inside the hull and connected to the rudder on the outside through a hole using thin wires. I attached a video of the rudders in action. It is quite pleasing to watch this mechanical assembly move.Although the rudders were looking great, the first test drives revealed that the turning radius with them is around 10m which is just terrible. Furthermore the rudders tend to disconnect from the servos, making the boat unable to steer. The final weak point is the hole for those wires. This hole was so close to the water, that reversing caused it to be submerged, therefore flooding the interior of the hull.Instead of trying to fix those issues, i removed the rudders all together, closed the holes and went for a differential thrust solution. With differential thrust, the two motors turn in the opposite direction to make the vehicle turn. As the boat is almost as wide as it is short and the motors are positioned far away from the center this allows turning on the spot. It only requires a little bit of configuration work (programming the ESC's and the main controller). Keep in mind that a boat that uses differential thrust will dirve in circles if one of the motors fails. I might have experienced that once or twice due to the current spike problem described in the step before.\", 'Step 4', 'To me it seems like RC Components, such as the ones used in this boat, can be powered by pretty much anything, ranging from a watch battery all the way to a nuclear power plant. Obviously this is a little bit of an exaggeration but they have a fairly wide voltage range. This range is not written into the data sheats, at least not in Volts. It is hidden in the S-rating. This rating describes how many battery cells in series it can handle. In most cases it refers to Lithium Polymere (LiPo) cells. Those have a voltage of 4.2V when fully charged and a voltage of around 3V when empty.The boats motors claim to be able to handle 2s to 6s which translates to a voltage range of 6V all the way to 25.2V. Although i wouldn\\'t always trust the upper limit, as some manufacturers are known to place components on their boards that can only withstand lower voltages. This means that there is a wide variety of usable batteries as long as they can deliver the required current. And I actually went through a couple of different batteries before building a proper one. Here is a quick rundown of the three battery iterations that the boat went through (so far).1. LiPo Battery PackWhen we planned the boat we did not have any clue how much energy it would consume. For the first battery we choose to build a pack out of the well known 18650 Lithium Ion cells. We soldered them into a 4S 10P pack using nickel strips. This pack has a voltage range of 12V to 16.8V. Each cell has 2200mAh and is rated at a maximum discharge rate of 2C (pretty weak) so 2*2200mA. As there is 10 cells in parallel it can deliver peak currents of just 44A and has a capacity of 22Ah. We also equipped the pack with a battery management board (more on BMS later) that takes care of charge balancing and limits the current to 20A.Upon testing the boat it turned out that 20A of max current is waaaaay less than the motors consume and the BMS was constantly cutting the power if we weren\\'t careful with the trottle stick. That is why I decided do bridge the BMS and connect the Battery straight to the motors to get the full 44Amps. Bad Idea!!! While the batteries managed to deliver slightly more power, the nickel strips, connecting the cells could\\'t handle it. One of the connections melted and caused the wooden interior of the boat to produce smoke.Yeah, so this battery was not really suitable.2. Car BatteryFor my 2020 proof of concept, I decided to use a bigger battery. However, I did not want to spend any extra money so I used an old car battery. Car batteries are not meant to be fully discharged and recharged, they should always be kept at full charge and only used for short current burst to start an engine. That is why they are called starter batteries. Using them as a battery for an RC vehicle significantly reduces their lifespan. There is another type of lead battery that often has the same form factor and is specially designed to be discharged and recharged multiple times called a Deep Cycle battery. I was well aware of the short comings of my battery, but I wanted to quickly test the boat and the battery was old anyway. Well, it survived 3 cycles. Now the voltage dips from 12V to 5V whenever I hit the throttle.3. LiFePo4 Battery Pack\"Third time is a charm\" is what they say. As i still didn\\'t want to spend my own money, I asked my university for help. Sure enough they had my dream battery all along. Our Uni takes part in the \"Formula Student Electic\" competition and therefore has an electric race car. The racing team previously switched from LiFePo4 cells to 18650 LiPo cells as they are lighter. So they have a stash of multiple used LiFePo4 cells that they don\\'t need anymore.Those cells differ from LiPo or LiIon cells in their voltage range. The have a nominal voltage of 3.2V and it ranges from 2.5V to 3.65V. I assembled 3 of those 60Ah cells into a 3S pack. This pack can deliver Peak currents of 3C aka. 180A and has a max voltage of just 11V. I decided to go for a lower system voltage to decrease the motor current. This pack finally allowed me to drive the boat for more than 5 minutes and test the self driving capabilities.A word on battery charging ans safetyBatteries concentrate energy. Energy can turn into heat and if this heat takes the shape of a battery fire, you\\'ve got a problem on your hand. That\\'s why you should treat batteries with the respect they deserve and equipt them with the right electronics.Battery cells have 3 ways of dying.Discharging them to below their minimum voltage rating (cold death) charging them above their maximum rated voltage (may cause swelling, fire and explosions) drawing too much current or shorting them (so I really have to explain why this might be bad)A battery management system prevents all of those things, that is why you should use them.', 'Step 5', \"The Wiring for the muscle part is shown in the first image. On the bottom we've got the battery which should be fused with an appropriate fuse (right now there is none). I added two external contacts to connect a charger. It would be a good idea to replace those by a proper XT60 connector.  Then we have a big battery switch, that connects the rest of the system to the battery. This switch has an actual key and let me tell you, it is so satisfying to turn it and see the boat come to life. The brain is connected to the batteries ground while the ESCs and Servos are separated by a shunt resistor. This allows the current to be measured through the little orange connection as it causes a small voltage drop over the shunt resistor. The rest of the wiring is just red to red and black to black. As the servos are not really used anymore, they can just be ignored. The cooling pumps are the only component of the boat that requires exactly 12V and they don't seem to work well if the voltage is higher or lower than that. Therefore they need a Regulator if the battery voltage is above 12V or a step up converter if it is below that.With rudder steering both of the ESC signal wires would go to the same channel on the brain. However the boat now uses differential thrust aka. skid steering, so each ESC needs to have its own separate channel and the servos aren't needed at all.\", 'Step 6', \"The brain is a big box full of interesting electronics. Many of which can be found in FPV racing drones, and some of them were actually taken out of my own drone. The first image shows all of the electronic modules. They are neatly stacked on top of each other using brass PCB standoffs. That is possible because FPV-components come in special form factors refered to as the stack site. From bottom to top our stack contains the following:Power Distribution Board (PDB)This thing does just what the name implies and distributes the power. Two wires from the battery come in and it offers multiple solder pads to connect different modules to the battery. This PDB also offers a 12V and a 5V regulator.Flight Controller (FC)The flight controller runs the ArduPilot Rover Firmware. It does a variety of things. It controls the motor controllers through several PWM Outputs, it monitors the battery voltage and current, it connects to the different sensors and input and output devices and it also features a gyroscope. You could say that this little module is the actual brain.RC ReceiverThe receiver is connected to a remote control. In my case it is a FlySky remote for RC planes that has ten channels and even establishes two way communication so the remote can also receive signals from the receiver. It's output signals go straight to the FC through a single wire using the so called I-bus protocol.Video Transmitter (VTX)The brain box features a little analog camera. The video signal of the camera is passed to the FC that adds an on screen display (OSD) to the video stream, containing information such as the battery voltage. It is then passed on to the VTX which transmits it to a special 5.8GHz receiver on the other end. This part is not strictly necessary but it is cool to be able to see what the boat sees.On top of the box are a bunch of antennas. One is from the VTX, two from the RC Receiver. The other two antennas are the following components.Telemetry ModuleThe 433MHz antenna belongs to a telemetry module. This little transmitter is an input/output device that connects the flight controller to the ground station (a laptop with a 433MHz USB dongle). This connection allows the operator to remotely change parameters and get data from the internal and external sensors. This link can also be used to remotely control the boat.GPS and CompassThe big round thing on top of the boat is actually not an antenna. Well it kind of is but it is also a whole GPS module and a compass module. This is what enables the boat to know it's position, speed and orientation.Thanks to the growth of the drone market there is a wide variety of components to choose from for each module. The most likely that you might want to switch is the FC. If you want to connect more sensors and need more inputs there is a variety of more powerful hardware options. Here is a list of all the FC's that ArduPilot supports, there is even a raspberry pi on there.And here is a little list of the exact components i used:FC:                                       Omnibus F4 V3S                 AliexpressRC Receiver:                       Flysky FS-X8B                     AliexpressTelemetry Transmitter Set:  433MHz 500mW                  AliexpressVTX:                                     VT5803                               AliexpressGPS and Compass:             M8N                                    AliexpressEnclosure:                            200x200x100 mm IP67       AliexpressRemote Control:                   FLYSKY FS-i6X                  AliexpressVideo Receiver:                    Skydroid 5,8 Ghz                Aliexpress\", 'Step 7', \"The brain gets its operating voltage straight from the battery. It also gets an analog voltage from the current shunt and it outputs the control signals for both of the motors. Those are the external connection that are accessible from the outside of the brain box.The inside looks much more convoluted. That's why I made the little wiring diagram in the first picture. This shows the connections between all of the different components that I described in the previous step. I also made a couple of extension cords for the PWM output channels and the USB port and routed them to the back of the enclosure (see image 3).To mount the stack to the box I used a 3D printed base plate. As the components (especially the VTX) produce heat I also attached a 40mm fan with yet another 3D printed adapter. I added 4 black plastic pieces to the edges to screw the box onto the boat without the need to open the lid. The STL files for all of the 3D printed parts are attached. I used epoxy and some hot glue to stick everything to the.\", 'Step 8', \"The Ardupilot Wiki describes how to setup a rover in great detail. Here is the Rover documentation. I am only going to scratch the surface here. There are basically the following steps to get an ArduPilot Rover up and running after everything is wired up correctly:Flash ArduPilot Firmware to FC (Tipp: you can use Betaflight, a common FPV drone software, for that)Install a Ground Station software like Mission Planner and connect the board (see mission planner UI in image 1)Do a basic hardware setup   calibrate gyro and compass    calibrate remote control    setup output channelsDo a more advanced setup by going through the parameter list (image 2) voltage and current sensor    channel mapping    LEDsDo a test drive and tune the parameters for throttle and steering (image 3)And boom, you've got a self-driving rover. Of course all of those steps and settings take some time and things like calibrating the compass can be quite tedious but with the help of the docs, the ArduPilot forums and YouTube tutorials you can eventually get there. ArduPilot gives you an advanced playground of houndreds of parameters that you can use to build pretty much any self-driving vehicle you can think of. And if you are missing something you can engage with the community to build it as this great project is open source. I can only encourage you to try it, as this is problably the easiest way to get into the world of autonomous vehicles. But here is a little pro tip: Try it with a simple vehicle before building a giant RC boat.Here is a little list of the Advanced settings that I did for my particular hardware setup:Changed Channel mapping in RC MAP   Pitch 2->3    Throttle 3->2Activated I2C RGB LEDs    Frame Type = Boat    Setup Skid Steering   Channel 1 = ThrottleLeft    Channel 2 = ThrottleRightChannel 8 = FlightMode    Channel 5 = Arming/Disarming    Setup Current and Battery Monitor   BATT_MONITOR=4    Then reboot. BATT_VOLT_PIN 12     BATT_CURR_PIN 11     BATT_VOLT_MULT 11.0\", 'Step 9', \"Let's face it, RGB LED's are very cool. They look good, they have increased performance in gaming PC's for years and in case of an ArduPilot vehicles, they actually serve a purpose. They show you what's going on inside the controller. Green is good, red is bad and there is also a lot of color codes in between here is a full list.ArduPilot Rover supports a variety of LED types, such as addressable WS2812b RGB LED's aka. NeoPixels. However, it only supports a single LED out of the box. It also supports scripting, so you can write your own LED control script to control more LED's BUT your flight controller has to have at least 2MB of RAM, to support this feature. My FC does not support scripting but I put 36 addressable LED's on the outside of my brain box and I want to see all of them light up. To achieve that, I put an Arduino Nano in between the FC and the LED's. To the FC it behaves like an I2C RGB LED controller, that is able to make an LED strip light up in a single color. On the other end it controls the 36 WS2812b LED's. My custom LED controller is basically just a translator that turns the smart addressable LED's into a dumb RGB strip. I attached the Arduino sketch.I am pretty sure that there is a way to make multiple WS2812b LED's work with just the ArduPilot FC. This was just the easiest way for me after googling around for an hour.\", 'Step 10', \"After all of that hard work, the boat is finally able to drive itself, meaning that I can click on the map in my mission planner software to create a waypoint mission, upload it to the boat and it will drive the pre-configured route. Although the boat is not perfectly tuned and is also not yet well tested (this will hopefully be done by future project groups), it is able to follow simple routes and sends a constant stream of telemetry data to the ground station.To me it is just a magic moment when I flip the switch on my remote control and the boat just starts moving on its own, without me touching the throttle stick. And the route is highly repeatable. I can just store my waypoint map in a little file and the boat will drive the same route again and again and again. This makes it possible to sample certain points on surface of a lake and generate heatmaps over time. This can make trends, that usually happen too slow or on too big of a scale to notice visible. Therefore the Kenterprise a great survey vehicle that is relatively easy to operate thanks to the great work of all the people involved in the creation of ArduPilot.I hope you enjoyed this Instructable and I hope that i got you hooked on ArduPilot as well. Thank you for reading and a big thanks to everyone who supported our project team back in 2019 and me during my 2020 upgrade. A special thanks to Ammar for helping me.If you have got any questions, that this Instructable didn't answer, feel free to leave them in the comments. I will try my best to respond and expand it if necessary, although it might not be instantly. Also if you build your own ArduPilot rover share it. I would love to take a look at it. And one more thing, if you liked this project, you might want to vote for it in the 2020 Make it Move Contest.Happy Making\"]\n"
          ],
          "name": "stdout"
        }
      ]
    },
    {
      "cell_type": "code",
      "metadata": {
        "id": "kIIwK1mnB4xk"
      },
      "source": [
        ""
      ],
      "execution_count": null,
      "outputs": []
    },
    {
      "cell_type": "code",
      "metadata": {
        "id": "-P2nNX8nB5A2"
      },
      "source": [
        ""
      ],
      "execution_count": null,
      "outputs": []
    },
    {
      "cell_type": "code",
      "metadata": {
        "id": "daWwI7RNHMxH"
      },
      "source": [
        "###Converting list to json \n",
        "import json \n",
        "\n",
        "final_json=json.dumps(final_list)"
      ],
      "execution_count": 151,
      "outputs": []
    }
  ]
}